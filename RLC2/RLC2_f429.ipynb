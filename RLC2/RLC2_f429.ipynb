{
  "nbformat": 4,
  "nbformat_minor": 0,
  "metadata": {
    "kernelspec": {
      "display_name": "Python 3",
      "language": "python",
      "name": "python3"
    },
    "language_info": {
      "codemirror_mode": {
        "name": "ipython",
        "version": 3
      },
      "file_extension": ".py",
      "mimetype": "text/x-python",
      "name": "python",
      "nbconvert_exporter": "python",
      "pygments_lexer": "ipython3",
      "version": "3.7.3"
    },
    "colab": {
      "name": "RLC2 f429.ipynb",
      "version": "0.3.2",
      "provenance": [],
      "collapsed_sections": [],
      "toc_visible": true
    }
  },
  "cells": [
    {
      "cell_type": "code",
      "metadata": {
        "_cell_guid": "b1076dfc-b9ad-4769-8c92-a6c4dae69d19",
        "_uuid": "8f2839f25d086af736a60e9eeb907d3b93b6e0e5",
        "id": "sdQAIbyUk4rZ",
        "colab_type": "code",
        "colab": {}
      },
      "source": [
        "# This Python 3 environment comes with many helpful analytics libraries installed\n",
        "# It is defined by the kaggle/python docker image: https://github.com/kaggle/docker-python\n",
        "# For example, here's several helpful packages to load in \n",
        "\n",
        "import numpy as np # linear algebra\n",
        "import pandas as pd # data processing, CSV file I/O (e.g. pd.read_csv)\n",
        "import matplotlib.pyplot as plt\n",
        "\n",
        "# Input data files are available in the \"../input/\" directory.\n",
        "# For example, running this (by clicking run or pressing Shift+Enter) will list all files under the input directory\n",
        "\n",
        "import os\n",
        "for dirname, _, filenames in os.walk('/kaggle/input'):\n",
        "    for filename in filenames:\n",
        "        print(os.path.join(dirname, filename))\n",
        "\n",
        "# Any results you write to the current directory are saved as output."
      ],
      "execution_count": 0,
      "outputs": []
    },
    {
      "cell_type": "code",
      "metadata": {
        "id": "zmKdh3HWsCQW",
        "colab_type": "code",
        "colab": {}
      },
      "source": [
        "p1a = pd.read_csv('p1a_dados.csv')\n",
        "p1b = pd.read_csv('p1b_dados.csv')\n",
        "p2_47 = pd.read_csv('p2-47ohms-47nF_dados.csv')\n",
        "p2_4_7 = pd.read_csv('p2-4.7ohms-47nF_dados_dados.csv')\n",
        "p2_10 = pd.read_csv('p2-10ohms-47nF_dados_dados_dados.csv')\n",
        "p2_470 = pd.read_csv('p2-470ohms-47nF_dados_dados_dados_dados.csv')\n",
        "p2_22 = pd.read_csv('p2-22ohms-47nF_dados_dados_dados_dados.csv')\n",
        "p2_47 = pd.read_csv('p2-33ohms-47nF_dados_dados_dados_dados_dados.csv')"
      ],
      "execution_count": 0,
      "outputs": []
    },
    {
      "cell_type": "markdown",
      "metadata": {
        "id": "Tg6GuZTck4rd",
        "colab_type": "text"
      },
      "source": [
        "## Parte 1\n"
      ]
    },
    {
      "cell_type": "code",
      "metadata": {
        "id": "A0ZooWh8k4rp",
        "colab_type": "code",
        "colab": {}
      },
      "source": [
        "from sympy import *\n",
        "f, R, C, u_R, u_C, L, u_L = symbols('f R C u_R u_C L u_L')\n",
        "Tdb_passa = -10 * log(1 + (1/(2*pi*f*R*C) - 2*pi*f*L/R)**2 ,10)\n",
        "Tdb_rejeita = 10*log((1/(2*pi*f*R*C) - 2*pi*f*L/R)**2/(1+(1/(2*pi*f*R*C) - 2*pi*f*L/R)**2),10)\n",
        "defasagem_passa = atan(1/(2*pi*f*R*C) - 2*pi*f*L/R)\n",
        "defasagem_rej = atan(-1/(1/(2*pi*f*R*C) - 2*pi*f*L/R))\n",
        "#print(latex(Tdb_passa))"
      ],
      "execution_count": 0,
      "outputs": []
    },
    {
      "cell_type": "code",
      "metadata": {
        "scrolled": true,
        "id": "RivfwfRhk4rt",
        "colab_type": "code",
        "colab": {}
      },
      "source": [
        "incerteza_passa = sqrt(diff(Tdb_passa,R)**2*u_R**2+diff(Tdb_passa,C)**2*u_C**2+diff(Tdb_passa,L)**2*u_L**2)\n",
        "incerteza_rej = sqrt(diff(Tdb_rejeita,R)**2*u_R**2+diff(Tdb_rejeita,C)**2*u_C**2+diff(Tdb_rejeita,L)**2*u_L**2)\n",
        "incertesa_def_passa = sqrt(diff(defasagem_passa,R)**2*u_R**2+diff(defasagem_passa,C)**2*u_C**2+diff(defasagem_passa,L)**2*u_L**2)\n",
        "incertesa_def_rej = sqrt(diff(defasagem_rej,R)**2*u_R**2+diff(defasagem_rej,C)**2*u_C**2+diff(defasagem_rej,L)**2*u_L**2)\n",
        "#print(latex(incerteza_baixa))\n",
        "#print()\n",
        "#print(latex(incerteza_alta))\n",
        "#print()\n",
        "#print(latex(incertesa_def_baixa))\n",
        "#print()\n",
        "#print(latex(incertesa_def_alta))"
      ],
      "execution_count": 0,
      "outputs": []
    },
    {
      "cell_type": "markdown",
      "metadata": {
        "id": "8FcV-12Af4Pl",
        "colab_type": "text"
      },
      "source": [
        "Parei aki "
      ]
    },
    {
      "cell_type": "code",
      "metadata": {
        "id": "PqB1lfvRk4rw",
        "colab_type": "code",
        "colab": {}
      },
      "source": [
        "#1kohm 2,2uF 48,43mH\n",
        "\n",
        "incerteza_passa = incerteza_passa.subs([(R,1000),(C,2.2*0.000001),(u_C,2.2*0.000001*0.1),(u_R,1000*0.05),(L,48.43*0.001),(u_L,48.43*0.001*0.05)])\n",
        "incerteza_rej= incerteza_rej.subs([(R,1000),(C,2.2*0.000001),(u_C,2.2*0.000001*0.1),(u_R,1000*0.05),(L,48.43*0.001),(u_L,48.43*0.001*0.05)])\n",
        "valor_teo_passa = Tdb_passa.subs([(R,1000),(C,2.2*0.000001),(u_C,2.2*0.000001*0.1),(u_R,1000*0.05),(L,48.43*0.001),(u_L,48.43*0.001*0.05)])\n",
        "valor_teo_rejeita = Tdb_rejeita.subs([(R,1000),(C,2.2*0.000001),(u_C,2.2*0.000001*0.1),(u_R,1000*0.05),(L,48.43*0.001),(u_L,48.43*0.001*0.05)])\n",
        "def_baixa_incerteza = incertesa_def_baixa.subs([(R,1000),(C,2.2*0.000001),(u_C,2.2*0.000001*0.1),(u_R,1000*0.05),(L,48.43*0.001),(u_L,48.43*0.001*0.05)])\n",
        "def_alta_incerteza = incertesa_def_alta.subs([(R,1000),(C,0.22*0.000001),(u_C,0.22*0.000001*0.1),(u_R,1000*0.05),(L,48.43*0.001),(u_L,48.43*0.001*0.05)])\n",
        "def_baixa_teo = defasagem_baixa.subs([(R,1000),(C,2.2*0.000001),(u_C,2.2*0.000001*0.1),(u_R,1000*0.05),(L,48.43*0.001),(u_L,48.43*0.001*0.05)])\n",
        "def_alta_teo = defasagem_alta.subs([(R,1000),(C,2.2*0.000001),(u_C,2.2*0.000001*0.1),(u_R,1000*0.05),(L,48.43*0.001),(u_L,48.43*0.001*0.05)])\n"
      ],
      "execution_count": 0,
      "outputs": []
    },
    {
      "cell_type": "code",
      "metadata": {
        "id": "vjSHIJHik4rz",
        "colab_type": "code",
        "colab": {}
      },
      "source": [
        "var_baixa = []\n",
        "var_alta = []\n",
        "Tdb_baixa_teo = []\n",
        "Tdb_alta_teo = []\n",
        "def_baixa_valor_incerteza = []\n",
        "def_alta_valor_incerteza = []\n",
        "def_baixa_teo_valor = []\n",
        "def_alta_teo_valor = []\n",
        "for i in passa_baixa['frequencia (Hz)']:\n",
        "    var_baixa.append(float(incerteza_baixa.subs([(f,i)]).evalf()))\n",
        "    Tdb_baixa_teo.append(float(valor_teo_b.subs([(f,i)]).evalf()))\n",
        "    def_baixa_valor_incerteza.append(float(def_baixa_incerteza.subs([(f,i)]).evalf()))\n",
        "    def_baixa_teo_valor.append(float((def_baixa_teo.subs([(f,i)])*180/pi).evalf()))\n",
        "\n",
        "for i in passa_alta['frequencia (Hz)']:\n",
        "    var_alta.append(float(incerteza_alta.subs([(f,i)]).evalf()))\n",
        "    Tdb_alta_teo.append(float(valor_teo_a.subs([(f,i)]).evalf()))\n",
        "    def_alta_valor_incerteza.append(float(def_alta_incerteza.subs([(f,i)]).evalf()))\n",
        "    def_alta_teo_valor.append(float((def_alta_teo.subs([(f,i)])*180/pi).evalf()))\n",
        "\n",
        "baixa_inf = np.subtract(Tdb_baixa_teo,var_baixa)\n",
        "baixa_sup = np.add(Tdb_baixa_teo,var_baixa)\n",
        "freq = passa_baixa['frequencia (Hz)']\n",
        "print(def_baixa_teo_valor)"
      ],
      "execution_count": 0,
      "outputs": []
    },
    {
      "cell_type": "code",
      "metadata": {
        "id": "X80-IKOek4r2",
        "colab_type": "code",
        "colab": {}
      },
      "source": [
        "\n",
        "#plt.subplot(1,2,1)\n",
        "plt.plot( passa_baixa['frequencia (Hz)'], passa_baixa['T_dB'], 'o', color='blue', markersize=6)\n",
        "plt.xlabel('Frequência (Hz)')\n",
        "plt.ylabel('Relação entre a tensão de saida/entrada (dB)',color='blue')\n",
        "plt.xscale('log')\n",
        "plt.fill_between(freq, baixa_inf, baixa_sup, color='skyblue', alpha=0.3)\n",
        "plt.plot(freq,Tdb_baixa_teo,linestyle='--',linewidth=2,color='skyblue')\n",
        "plt.twinx()\n",
        "#plt.subplot(1,2,2)\n",
        "plt.plot( passa_baixa['frequencia (Hz)'], passa_baixa['fase (Ch2-Ch1) (graus)'], 'o', color='red', markersize=6)\n",
        "plt.xlabel('Frequência (Hz)')\n",
        "plt.ylabel('Diferença de fase (°)',color='red')\n",
        "plt.xscale('log')\n",
        "plt.fill_between(freq, np.subtract(def_baixa_teo_valor,def_baixa_valor_incerteza), \n",
        "                 np.add(def_baixa_teo_valor,def_baixa_valor_incerteza), \n",
        "                 color='orange', alpha=0.5)\n",
        "plt.plot(freq,def_baixa_teo_valor,linestyle='--',linewidth=2,color='orange')\n",
        "plt.tight_layout()\n",
        "plt.savefig('parte2_passa_baixa.png')\n"
      ],
      "execution_count": 0,
      "outputs": []
    },
    {
      "cell_type": "code",
      "metadata": {
        "id": "fYiV1s59k4r6",
        "colab_type": "code",
        "colab": {}
      },
      "source": [
        "\n",
        "#plt.subplot(1,2,1)\n",
        "plt.plot( passa_alta['frequencia (Hz)'], passa_alta['T_dB'], 'o', color='blue', markersize=6)\n",
        "plt.xlabel('Frequência (Hz)')\n",
        "plt.ylabel('Relação entre a tensão de saida/entrada (dB)',color='blue')\n",
        "plt.xscale('log')\n",
        "plt.fill_between(freq, np.subtract(Tdb_alta_teo,var_alta),\n",
        "                 np.add(Tdb_alta_teo,var_alta), color='skyblue', alpha=0.3)\n",
        "plt.plot(freq,Tdb_alta_teo,linestyle='--',linewidth=2,color='skyblue')\n",
        "plt.twinx()\n",
        "#plt.subplot(1,2,2)\n",
        "plt.plot( passa_alta['frequencia (Hz)'], passa_alta['fase (Ch2-Ch1) (graus)'], 'o', color='red', markersize=6)\n",
        "plt.xlabel('Frequência (Hz)')\n",
        "plt.ylabel('Diferença de fase (°)',color='red')\n",
        "plt.xscale('log')\n",
        "plt.fill_between(freq, np.subtract(def_alta_teo_valor,def_alta_valor_incerteza), \n",
        "                 np.add(def_alta_teo_valor,def_alta_valor_incerteza), \n",
        "                 color='orange', alpha=0.5)\n",
        "plt.plot(freq,def_alta_teo_valor,linestyle='--',linewidth=2,color='orange')\n",
        "plt.tight_layout()\n",
        "plt.savefig('parte2_passa_alta.png')"
      ],
      "execution_count": 0,
      "outputs": []
    },
    {
      "cell_type": "markdown",
      "metadata": {
        "id": "vQpSWydPk4r9",
        "colab_type": "text"
      },
      "source": [
        "# Parte 3"
      ]
    },
    {
      "cell_type": "code",
      "metadata": {
        "id": "ggMT3J-nk4r-",
        "colab_type": "code",
        "colab": {}
      },
      "source": [
        "p3bs_1 = pd.read_csv('parte3_passa baixa_13_6kHz_dados.csv')\n",
        "p3bt_1 = pd.read_csv('parte3_passa baixa_13kHz_dados_triangular_dados.csv')\n",
        "p3bq_1 = pd.read_csv('parte3_passa baixa_13kHz_dados_quadrada_dados.csv')\n",
        "p3bsf_1 = pd.read_csv('parte3_passa baixa_10Hz_dados_dados.csv')"
      ],
      "execution_count": 0,
      "outputs": []
    },
    {
      "cell_type": "code",
      "metadata": {
        "id": "ob4vbfwQk4sB",
        "colab_type": "code",
        "colab": {}
      },
      "source": [
        "plt.subplot(2,1,1)\n",
        "plt.plot( p3bs_1['Tempo (s)']*1000000, p3bs_1['V1 (V)'], color='blue')\n",
        "plt.xlabel('Tempo (us)')\n",
        "plt.ylabel('V1 (V)',color='blue')\n",
        "plt.twinx()\n",
        "plt.plot(p3bs_1['Tempo (s)']*1000000, p3bs_1['V2 (V)']*1000, color='red')\n",
        "plt.xlabel('Tempo (us)')\n",
        "plt.ylabel('V2 (mV)',color='red')\n",
        "#plt.tight_layout()\n",
        "plt.title('Sinal de entrada senoidal de 13kHz')\n",
        "\n",
        "plt.subplot(2,1,2)\n",
        "plt.plot( p3bt_1['Tempo (s)']*1000000, p3bt_1['V1 (V)'], color='blue')\n",
        "plt.xlabel('Tempo (us)')\n",
        "plt.ylabel('V1 (V)',color='blue')\n",
        "plt.twinx()\n",
        "plt.plot(p3bt_1['Tempo (s)']*1000000, p3bt_1['V2 (V)']*1000, color='red')\n",
        "plt.xlabel('Tempo (us)')\n",
        "plt.ylabel('V2 (mV)',color='red')\n",
        "plt.ylim([0,200])\n",
        "#plt.tight_layout()\n",
        "plt.title('Sinal de entrada triangular de 13kHz')\n",
        "\n",
        "plt.tight_layout()\n",
        "\n",
        "plt.savefig('Parte 3 passa baixa 1.png')"
      ],
      "execution_count": 0,
      "outputs": []
    },
    {
      "cell_type": "code",
      "metadata": {
        "id": "9EmHr7E2k4sE",
        "colab_type": "code",
        "colab": {}
      },
      "source": [
        "plt.subplot(2,1,1)\n",
        "plt.plot( p3bq_1['Tempo (s)']*1000000, p3bq_1['V1 (V)'], color='blue')\n",
        "plt.xlabel('Tempo (us)')\n",
        "plt.ylabel('V1 (V)',color='blue')\n",
        "plt.twinx()\n",
        "plt.plot(p3bq_1['Tempo (s)']*1000000, p3bq_1['V2 (V)']*1000, color='red')\n",
        "plt.xlabel('Tempo (us)')\n",
        "plt.ylabel('V2 (mV)',color='red')\n",
        "#plt.tight_layout()\n",
        "plt.title('Sinal de entrada quadrada de 13kHz')\n",
        "\n",
        "plt.subplot(2,1,2)\n",
        "plt.plot( p3bsf_1['Tempo (s)']*1000000, p3bsf_1['V1 (V)'], color='blue')\n",
        "plt.xlabel('Tempo (us)')\n",
        "plt.ylabel('V1 (V)',color='blue')\n",
        "plt.twinx()\n",
        "plt.plot(p3bsf_1['Tempo (s)']*1000000, p3bsf_1['V2 (V)']*1000, color='red')\n",
        "plt.xlabel('Tempo (us)')\n",
        "plt.ylabel('V2 (mV)',color='red')\n",
        "#plt.tight_layout()\n",
        "plt.title('Sinal de entrada senoidal de 100Hz')\n",
        "\n",
        "plt.tight_layout()\n",
        "\n",
        "plt.savefig('Parte 3 passa baixa 2.png')"
      ],
      "execution_count": 0,
      "outputs": []
    },
    {
      "cell_type": "code",
      "metadata": {
        "id": "UL7Dk37Sk4sH",
        "colab_type": "code",
        "colab": {}
      },
      "source": [
        "fig, ax1 = plt.subplots()\n",
        "color = 'tab:red'\n",
        "ax1.set_xlabel('Tempo (us)')\n",
        "ax1.set_ylabel('V1 (V)', color=color)\n",
        "ax1.plot(p3bs_1['Tempo (s)']*1000000, p3bs_1['V1 (V)'], color=color)\n",
        "ax1.tick_params(axis='y', labelcolor=color)\n",
        "\n",
        "ax2 = ax1.twinx()  # instantiate a second axes that shares the same x-axis\n",
        "\n",
        "color = 'tab:blue'\n",
        "ax2.set_ylabel('V2 (mV)', color=color)  # we already handled the x-label with ax1\n",
        "ax2.plot(p3bs_1['Tempo (s)']*1000000, p3bs_1['V2 (V)']*1000, color=color)\n",
        "ax2.tick_params(axis='y', labelcolor=color)\n",
        "fig.tight_layout()"
      ],
      "execution_count": 0,
      "outputs": []
    },
    {
      "cell_type": "code",
      "metadata": {
        "id": "dOW4FspJk4sL",
        "colab_type": "code",
        "colab": {}
      },
      "source": [
        "p3b_2 = pd.read_csv('parte3_passa baixa_13kHz_dados_triangular_dados.csv')"
      ],
      "execution_count": 0,
      "outputs": []
    },
    {
      "cell_type": "code",
      "metadata": {
        "scrolled": false,
        "id": "F40uuon3k4sO",
        "colab_type": "code",
        "colab": {}
      },
      "source": [
        "fig, ax1 = plt.subplots()\n",
        "color = 'tab:red'\n",
        "ax1.set_xlabel('Tempo (us)')\n",
        "ax1.set_ylabel('V1 (V)', color=color)\n",
        "ax1.plot(p3b_2['Tempo (s)']*1000000, p3b_2['V1 (V)'], color=color)\n",
        "ax1.tick_params(axis='y', labelcolor=color)\n",
        "\n",
        "ax2 = ax1.twinx()  # instantiate a second axes that shares the same x-axis\n",
        "\n",
        "color = 'tab:blue'\n",
        "ax2.set_ylabel('V2 (mV)', color=color)  # we already handled the x-label with ax1\n",
        "ax2.plot(p3b_2['Tempo (s)']*1000000, p3b_2['V2 (V)']*1000, color=color)\n",
        "ax2.tick_params(axis='y', labelcolor=color)\n",
        "fig.tight_layout()"
      ],
      "execution_count": 0,
      "outputs": []
    },
    {
      "cell_type": "code",
      "metadata": {
        "id": "kYsQdYBdk4sS",
        "colab_type": "code",
        "colab": {}
      },
      "source": [
        "p3as = pd.read_csv('parte3_passa alta_ 50Hz senoidal_dados.csv')\n",
        "p3at = pd.read_csv('parte3_passa alta_ 50Hz triangular_dados.csv')\n",
        "p3aq = pd.read_csv('parte3_passa alta_ 50Hz quadrada_dados.csv')\n",
        "p3asf = pd.read_csv('parte3_passa alta_ 5kHz senoidal_dados.csv')"
      ],
      "execution_count": 0,
      "outputs": []
    },
    {
      "cell_type": "code",
      "metadata": {
        "id": "sEKnOYYck4sV",
        "colab_type": "code",
        "colab": {}
      },
      "source": [
        "plt.subplot(2,1,1)\n",
        "plt.plot( p3as['Tempo (s)']*1000, p3as['V1 (V)'], color='blue')\n",
        "plt.xlabel('Tempo (ms)')\n",
        "plt.ylabel('V1 (V)',color='blue')\n",
        "plt.twinx()\n",
        "plt.plot(p3as['Tempo (s)']*1000, p3as['V2 (V)']*1000, color='red')\n",
        "plt.xlabel('Tempo (ms)')\n",
        "plt.ylabel('V2 (mV)',color='red')\n",
        "#plt.tight_layout()\n",
        "plt.title('Sinal de entrada senoidal de 50Hz')\n",
        "\n",
        "plt.subplot(2,1,2)\n",
        "plt.plot( p3at['Tempo (s)']*1000, p3at['V1 (V)'], color='blue')\n",
        "plt.xlabel('Tempo (ms)')\n",
        "plt.ylabel('V1 (V)',color='blue')\n",
        "plt.twinx()\n",
        "plt.plot(p3at['Tempo (s)']*1000, p3at['V2 (V)']*1000, color='red')\n",
        "plt.xlabel('Tempo (ms)')\n",
        "plt.ylabel('V2 (mV)',color='red')\n",
        "#plt.tight_layout()\n",
        "plt.title('Sinal de entrada triangular de 50Hz')\n",
        "\n",
        "plt.tight_layout()\n",
        "\n",
        "plt.savefig('Parte 3 passa alta 1.png')"
      ],
      "execution_count": 0,
      "outputs": []
    },
    {
      "cell_type": "code",
      "metadata": {
        "id": "G1-Xer_Ck4sY",
        "colab_type": "code",
        "colab": {}
      },
      "source": [
        "plt.subplot(2,1,1)\n",
        "plt.plot( p3aq['Tempo (s)']*1000, p3aq['V1 (V)'], color='blue')\n",
        "plt.xlabel('Tempo (ms)')\n",
        "plt.ylabel('V1 (V)',color='blue')\n",
        "plt.twinx()\n",
        "plt.plot(p3aq['Tempo (s)']*1000, p3aq['V2 (V)'], color='red')\n",
        "plt.xlabel('Tempo (ms)')\n",
        "plt.ylabel('V2 (V)',color='red')\n",
        "#plt.tight_layout()\n",
        "plt.title('Sinal de entrada quadrada de 50Hz')\n",
        "\n",
        "plt.subplot(2,1,2)\n",
        "plt.plot( p3asf['Tempo (s)']*1000, p3asf['V1 (V)'], color='blue')\n",
        "plt.xlabel('Tempo (ms)')\n",
        "plt.ylabel('V1 (V)',color='blue')\n",
        "plt.twinx()\n",
        "plt.plot(p3asf['Tempo (s)']*1000, p3asf['V2 (V)']*1000, color='red')\n",
        "plt.xlabel('Tempo (ms)')\n",
        "plt.ylabel('V2 (mV)',color='red')\n",
        "#plt.tight_layout()\n",
        "plt.title('Sinal de entrada senoidal de 5kHz')\n",
        "\n",
        "plt.tight_layout()\n",
        "\n",
        "plt.savefig('Parte 3 passa alta 2.png')"
      ],
      "execution_count": 0,
      "outputs": []
    },
    {
      "cell_type": "code",
      "metadata": {
        "id": "YRsc-7gak4sb",
        "colab_type": "code",
        "colab": {}
      },
      "source": [
        "from sympy import *\n",
        "\n",
        "def modulo(num):\n",
        "    aux = []\n",
        "    for i in num:\n",
        "        if i < 0:\n",
        "            aux.append(-i)\n",
        "        else:\n",
        "            aux.append(i)\n",
        "    return np.array(aux)\n",
        "def calcular(data_frame,v_div,tempo_div):\n",
        "    V, V_div, t, t_div = symbols('V V_div t t_div')\n",
        "    u_V = 0.03*V + 0.05*V_div\n",
        "    u_t = 0.0001*t + 0.004*t_div + 0.4 * 10**(-9)\n",
        "    aux = u_V.subs(V_div,v_div)\n",
        "    aux = lambdify(V,aux,'numpy')\n",
        "    aux2 = u_t.subs(t_div,tempo_div)\n",
        "    aux2 = lambdify(t,aux2,'numpy')\n",
        "    data_frame['u_V'] = aux(modulo(data_frame['V2 (V)']))\n",
        "    data_frame['u_t'] = aux2(modulo(data_frame['Tempo (s)']))\n",
        "#V, V_div, t, t_div = symbols('V V_div t t_div')\n",
        "#u_V = 0.03*V + 0.05*V_div\n",
        "#u_t = 0.0001*t + 0.004*t_div + 0.4 * 10**(-9)\n",
        "calcular(p3bs_1,50*0.001,50*10**(-6))\n",
        "calcular(p3bt_1,200*0.001,50*10**(-6))\n",
        "calcular(p3bq_1,200*0.001,25*10**(-6))\n",
        "calcular(p3as,50*0.001,5*10**(-3))\n",
        "calcular(p3at,50*0.001,5*10**(-3))\n",
        "calcular(p3aq,1,5*10**(-3))"
      ],
      "execution_count": 0,
      "outputs": []
    },
    {
      "cell_type": "code",
      "metadata": {
        "id": "PgKyFJHYk4sh",
        "colab_type": "code",
        "colab": {}
      },
      "source": [
        "p3aq['u_V']"
      ],
      "execution_count": 0,
      "outputs": []
    },
    {
      "cell_type": "code",
      "metadata": {
        "id": "lMU3hfAjk4sm",
        "colab_type": "code",
        "colab": {}
      },
      "source": [
        "p3bs_1 = p3bs_1.loc[(p3bs_1['Tempo (s)'] > 0 ) & (p3bs_1['Tempo (s)'] < 100*10**(-6))]\n",
        "p3bs_1['Tempo (s)']\n",
        "p3bs_1 = p3bs_1.iloc[range(0,1749-1251,25),:]\n",
        "\n",
        "p3bt_1 = p3bt_1.loc[(p3bt_1['Tempo (s)'] > 0 ) & (p3bt_1['Tempo (s)'] < 100*10**(-6))]\n",
        "p3bt_1['Tempo (s)']\n",
        "p3bt_1 = p3bt_1.iloc[range(0,len(p3bt_1['Tempo (s)']),25),:]\n",
        "\n",
        "p3bq_1 = p3bq_1.loc[(p3bq_1['Tempo (s)'] > 0 ) & (p3bq_1['Tempo (s)'] < 100*10**(-6))]\n",
        "p3bq_1['Tempo (s)']\n",
        "p3bq_1 = p3bq_1.iloc[range(0,len(p3bq_1['Tempo (s)']),25),:]\n",
        "\n",
        "p3as = p3as.loc[(p3as['Tempo (s)'] >= 0 ) & (p3as['Tempo (s)'] <= 20*10**(-3))]\n",
        "p3as['Tempo (s)']\n",
        "p3as = p3as.iloc[range(0,len(p3as['Tempo (s)']),25),:]\n",
        "\n",
        "#p3at = p3at.loc[(p3at['Tempo (s)'] >= 0 ) & (p3at['Tempo (s)'] <= 20*10**(-3))]\n",
        "p3at['Tempo (s)']\n",
        "p3at = p3at.iloc[range(0,len(p3at['Tempo (s)']),25),:]\n",
        "\n",
        "#p3aq = p3aq.loc[(p3aq['Tempo (s)'] >= 0 ) & (p3aq['Tempo (s)'] <= 20*10**(-3))]\n",
        "p3aq['Tempo (s)']\n",
        "p3aq= p3aq.iloc[range(0,len(p3aq['Tempo (s)']),25),:]\n"
      ],
      "execution_count": 0,
      "outputs": []
    },
    {
      "cell_type": "code",
      "metadata": {
        "id": "ZIXAhgdGk4so",
        "colab_type": "code",
        "colab": {}
      },
      "source": [
        "plt.errorbar(x=p3bs_1['Tempo (s)'],y=p3bs_1['V2 (V)'],xerr=p3bs_1['u_t'],yerr=p3bs_1['u_V'],fmt='o', ecolor='orangered',\n",
        "            color='steelblue', capsize=2,markersize=4)"
      ],
      "execution_count": 0,
      "outputs": []
    },
    {
      "cell_type": "code",
      "metadata": {
        "id": "fVO0Iq8pk4sr",
        "colab_type": "code",
        "colab": {}
      },
      "source": [
        "from sympy import *\n",
        "A, u_A, f, u_f, t = symbols('a u_A f u_f t') #u_a = 0,1V\n",
        "int_s = -cos(2*pi*f*t)/(2*pi*f)\n",
        "int_s = int_s.subs([(f,13000)])\n",
        "int_s = lambdify(t,int_s,'numpy')\n",
        "#u_int_s = lambdify(t,sqrt(diff(int_s,A)**2*u_A**2).subs([(A,2),(u_A,0.1),(f,13000)]),'numpy')\n",
        "#u_int_s = u_int_s(p3bs_1['Tempo (s)'])\n",
        "plt.errorbar(x=p3bs_1['Tempo (s)']*1000000,y=p3bs_1['V2 (V)']*1000,xerr=p3bs_1['u_t']*1000000,yerr=p3bs_1['u_V']*1000,fmt='o', ecolor='orangered',\n",
        "            color='steelblue', capsize=2,markersize=4)\n",
        "plt.plot(p3bs_1['Tempo (s)']*1000000, int_s(p3bs_1['Tempo (s)'])*8000000,color='red',linestyle='--')\n",
        "plt.xlabel('Tempo (ms)')\n",
        "plt.ylabel('Tensão V2 (uV)')"
      ],
      "execution_count": 0,
      "outputs": []
    },
    {
      "cell_type": "code",
      "metadata": {
        "id": "2qoWPJX4k4su",
        "colab_type": "code",
        "colab": {}
      },
      "source": [
        "plt.plot(p3bt_1['Tempo (s)'],p3bt_1['V2 (V)'],'o')"
      ],
      "execution_count": 0,
      "outputs": []
    },
    {
      "cell_type": "code",
      "metadata": {
        "id": "OJp_LBQPk4sx",
        "colab_type": "code",
        "colab": {}
      },
      "source": [
        "A, u_A, t = symbols('a u_A t')\n",
        "\n",
        "def funcao(tempo):\n",
        "    aux = np.zeros(len(tempo))\n",
        "    for i in range(10000):\n",
        "        aux += 16/(np.pi**2 * (2*i+1)**2) * np.sin((2*i+1)*2*np.pi*13000*tempo - np.pi/2)/((2*i+1)*2*np.pi*13000)\n",
        "    return aux\n",
        "\n",
        "p3bt_2 = funcao(p3bt_1['Tempo (s)'])\n",
        "p3bt_2"
      ],
      "execution_count": 0,
      "outputs": []
    },
    {
      "cell_type": "code",
      "metadata": {
        "id": "N3AoB542k4s0",
        "colab_type": "code",
        "colab": {}
      },
      "source": [
        "plt.errorbar(x=p3bt_1['Tempo (s)']*1000000,y=p3bt_1['V2 (V)']*1000,xerr=p3bt_1['u_t']*1000000,yerr=p3bt_1['u_V']*1000,fmt='o', ecolor='orangered',\n",
        "            color='steelblue', capsize=2,markersize=4)\n",
        "plt.plot(p3bt_1['Tempo (s)']*1000000,(p3bt_2*4000050)+100,linestyle='--',linewidth=2,color='red')"
      ],
      "execution_count": 0,
      "outputs": []
    },
    {
      "cell_type": "code",
      "metadata": {
        "id": "isbGeQhEk4s2",
        "colab_type": "code",
        "colab": {}
      },
      "source": [
        "def funcao2(tempo):\n",
        "    aux = np.zeros(len(tempo))\n",
        "    for i in range(1000):\n",
        "        n = 2*i + 1\n",
        "        aux += 2/(n**2*np.pi*2*np.pi*13000)*np.sin(n*2*np.pi*13000*tempo - np.pi/2)\n",
        "    return aux\n",
        "p3bq_2 = funcao2(p3bq_1['Tempo (s)'])"
      ],
      "execution_count": 0,
      "outputs": []
    },
    {
      "cell_type": "code",
      "metadata": {
        "id": "AU4VcKygk4s5",
        "colab_type": "code",
        "colab": {}
      },
      "source": [
        "plt.errorbar(x=p3bq_1['Tempo (s)']*1000000,y=p3bq_1['V2 (V)']*1000,xerr=p3bq_1['u_t']*1000000,yerr=p3bq_1['u_V']*1000,fmt='o', ecolor='orangered',\n",
        "            color='steelblue', capsize=2,markersize=4)\n",
        "plt.plot(p3bq_1['Tempo (s)']*1000000,(p3bq_2*15550000)+110,linestyle='--',linewidth=2,color='red')"
      ],
      "execution_count": 0,
      "outputs": []
    },
    {
      "cell_type": "code",
      "metadata": {
        "id": "C6qnzTXek4s8",
        "colab_type": "code",
        "colab": {}
      },
      "source": [
        "p3as_2 = np.cos(2*np.pi*50*p3as['Tempo (s)'])"
      ],
      "execution_count": 0,
      "outputs": []
    },
    {
      "cell_type": "code",
      "metadata": {
        "id": "y8_p5JcZk4tA",
        "colab_type": "code",
        "colab": {}
      },
      "source": [
        "plt.errorbar(x=p3as['Tempo (s)']*1000,y=p3as['V2 (V)']*1000,xerr=p3as['u_t']*1000,yerr=p3as['u_V']*1000,fmt='o', ecolor='orangered',\n",
        "            color='steelblue', capsize=2,markersize=4)\n",
        "plt.plot(p3as['Tempo (s)']*1000,(p3as_2)*145,linestyle='--',linewidth=2,color='red')"
      ],
      "execution_count": 0,
      "outputs": []
    },
    {
      "cell_type": "code",
      "metadata": {
        "id": "aep-ecPjk4tD",
        "colab_type": "code",
        "colab": {}
      },
      "source": [
        "def funcao3(tempo):\n",
        "    aux = np.zeros(len(tempo))\n",
        "    for i in range(1000):\n",
        "        n = 2*i+1\n",
        "        aux -= 8*2*np.sin(2*np.pi*50*n*tempo- np.pi) / (np.pi*n)\n",
        "    return aux\n",
        "p3at_2 = funcao3(p3at['Tempo (s)'])"
      ],
      "execution_count": 0,
      "outputs": []
    },
    {
      "cell_type": "code",
      "metadata": {
        "id": "ccffQLQSk4tG",
        "colab_type": "code",
        "colab": {}
      },
      "source": [
        "plt.errorbar(x=p3at['Tempo (s)']*1000,y=p3at['V2 (V)']*1000,xerr=p3at['u_t']*1000,yerr=p3at['u_V']*1000,fmt='o', ecolor='orangered',\n",
        "            color='steelblue', capsize=2,markersize=4)\n",
        "plt.plot(p3at['Tempo (s)']*1000-5,(p3at_2)*23,linestyle='--',linewidth=2,color='red')"
      ],
      "execution_count": 0,
      "outputs": []
    },
    {
      "cell_type": "code",
      "metadata": {
        "id": "oR1sq-AWk4tJ",
        "colab_type": "code",
        "colab": {}
      },
      "source": [
        "def funcao4(tempo):\n",
        "    aux = np.zeros(len(tempo))\n",
        "    for i in range(1000):\n",
        "        n = 2*i+1\n",
        "        aux -= 2/(n*np.pi) * n*2*np.pi*50*np.sin(n*2*np.pi*50*tempo - np.pi/2)\n",
        "    return np.array(aux)\n",
        "\n",
        "p3aq_2 = funcao4(p3at['Tempo (s)']) \n",
        "p3aq_2\n",
        "np.shape(p3aq['Tempo (s)'])"
      ],
      "execution_count": 0,
      "outputs": []
    },
    {
      "cell_type": "code",
      "metadata": {
        "id": "ZJPM_hXxk4tL",
        "colab_type": "code",
        "colab": {}
      },
      "source": [
        "plt.errorbar(x=p3aq['Tempo (s)']*1000,y=p3aq['V2 (V)']*1000,xerr=p3aq['u_t']*1000,yerr=p3aq['u_V']*1000,fmt='o', ecolor='orangered',\n",
        "            color='steelblue', capsize=2,markersize=4)\n",
        "plt.plot(p3aq['Tempo (s)']*1000,(p3aq_2)/140,linestyle='--',linewidth=2,color='red')"
      ],
      "execution_count": 0,
      "outputs": []
    },
    {
      "cell_type": "code",
      "metadata": {
        "id": "ZWs1ITqrk4tO",
        "colab_type": "code",
        "colab": {}
      },
      "source": [
        "plt.subplot(2,1,1)\n",
        "plt.errorbar(x=p3bs_1['Tempo (s)']*1000000,y=p3bs_1['V2 (V)']*1000,xerr=p3bs_1['u_t']*1000000,yerr=p3bs_1['u_V']*1000,fmt='o', ecolor='orangered',\n",
        "            color='red', capsize=2,markersize=4)\n",
        "plt.plot(p3bs_1['Tempo (s)']*1000000, int_s(p3bs_1['Tempo (s)'])*8000000,color='yellow',linestyle='--')\n",
        "plt.xlabel('Tempo (us)')\n",
        "plt.ylabel('Tensão V2 (mV)',color='red')\n",
        "plt.title('Circuito integrador - Senoidal')\n",
        "plt.twinx()\n",
        "plt.plot( p3bs_1['Tempo (s)']*1000000, p3bs_1['V1 (V)'], color='blue')\n",
        "plt.ylabel('Tensão V1 (V)',color='blue')\n",
        "\n",
        "plt.subplot(2,1,2)\n",
        "plt.errorbar(x=p3bt_1['Tempo (s)']*1000000,y=p3bt_1['V2 (V)']*1000,xerr=p3bt_1['u_t']*1000000,yerr=p3bt_1['u_V']*1000,fmt='o', ecolor='orangered',\n",
        "            color='red', capsize=2,markersize=4)\n",
        "plt.plot(p3bt_1['Tempo (s)']*1000000,(p3bt_2*4000050)+100,linestyle='--',linewidth=2,color='yellow')\n",
        "plt.ylabel('Tensão V2 (mV)',color='red')\n",
        "plt.xlabel('Tempo (us)')\n",
        "plt.twinx()\n",
        "plt.plot( p3bt_1['Tempo (s)']*1000000, p3bt_1['V1 (V)'], color='blue')\n",
        "plt.ylabel('Tensão V1 (V)',color='blue')\n",
        "plt.title('Circuito integrador - Triangular')\n",
        "plt.tight_layout()\n",
        "plt.savefig('grafico 3_1.png')"
      ],
      "execution_count": 0,
      "outputs": []
    },
    {
      "cell_type": "code",
      "metadata": {
        "id": "rs9-9KIsk4tQ",
        "colab_type": "code",
        "colab": {}
      },
      "source": [
        "plt.subplot(2,1,1)\n",
        "plt.errorbar(x=p3bq_1['Tempo (s)']*1000000,y=p3bq_1['V2 (V)']*1000,xerr=p3bq_1['u_t']*1000000,yerr=p3bq_1['u_V']*1000,fmt='o', ecolor='orangered',\n",
        "            color='red', capsize=2,markersize=4)\n",
        "plt.plot(p3bq_1['Tempo (s)']*1000000,(p3bq_2*15550000)+110,linestyle='--',linewidth=2,color='yellow')\n",
        "plt.ylabel('V2 (mV)',color='red')\n",
        "plt.xlabel('Tempo (us)')\n",
        "plt.twinx()\n",
        "plt.plot( p3bq_1['Tempo (s)']*1000000, p3bq_1['V1 (V)'], color='blue')\n",
        "plt.ylabel('Tensão V1 (V)',color='blue')\n",
        "plt.title('Circuito integrador - Quadrada')\n",
        "plt.subplot(2,1,2)\n",
        "plt.errorbar(x=p3as['Tempo (s)']*1000,y=p3as['V2 (V)']*1000,xerr=p3as['u_t']*1000,yerr=p3as['u_V']*1000,fmt='o', ecolor='orangered',\n",
        "            color='red', capsize=2,markersize=4)\n",
        "plt.plot(p3as['Tempo (s)']*1000,(p3as_2)*145,linestyle='--',linewidth=2,color='yellow')\n",
        "plt.ylabel('Tensao V2 (mV)',color='red')\n",
        "plt.xlabel('Tempo (ms)')\n",
        "plt.twinx()\n",
        "plt.plot( p3as['Tempo (s)']*1000, p3as['V1 (V)'], color='blue')\n",
        "plt.ylabel('Tensão V1 (V)',color='blue')\n",
        "plt.title('Circuito diferenciador - Senoidal')\n",
        "plt.tight_layout()\n",
        "plt.savefig('grafico 3_2.png')"
      ],
      "execution_count": 0,
      "outputs": []
    },
    {
      "cell_type": "code",
      "metadata": {
        "id": "LikXE5Adk4tU",
        "colab_type": "code",
        "colab": {}
      },
      "source": [
        "plt.subplot(2,1,1)\n",
        "plt.errorbar(x=p3at['Tempo (s)']*1000,y=p3at['V2 (V)']*1000,xerr=p3at['u_t']*1000,yerr=p3at['u_V']*1000,fmt='o', ecolor='orangered',\n",
        "            color='red', capsize=2,markersize=4)\n",
        "plt.plot(p3at['Tempo (s)']*1000-5,(p3at_2)*23,linestyle='--',linewidth=2,color='yellow')\n",
        "plt.xlabel('Tempo (ms)')\n",
        "plt.ylabel('Tensao V2 (mV)',color='red')\n",
        "plt.twinx()\n",
        "plt.plot( p3at['Tempo (s)']*1000, p3at['V1 (V)'], color='blue')\n",
        "plt.ylabel('Tensão V1 (V)',color='blue')\n",
        "plt.title('Circuito diferenciador - Triangular')\n",
        "plt.subplot(2,1,2)\n",
        "plt.errorbar(x=p3aq['Tempo (s)']*1000,y=p3aq['V2 (V)']*1000,xerr=p3aq['u_t']*1000,yerr=p3aq['u_V']*1000,fmt='o', ecolor='orangered',\n",
        "            color='red', capsize=2,markersize=4)\n",
        "plt.plot(p3aq['Tempo (s)']*1000,(p3aq_2)/140,linestyle='--',linewidth=2,color='yellow')\n",
        "plt.xlabel('Tempo (ms)')\n",
        "plt.ylabel('Tensao V2 (mV)',color='red')\n",
        "plt.twinx()\n",
        "plt.plot( p3aq['Tempo (s)']*1000, p3aq['V1 (V)'], color='blue')\n",
        "plt.ylabel('Tensão V1 (V)',color='blue')\n",
        "plt.title('Circuito diferenciador - Quadrada')\n",
        "plt.tight_layout()\n",
        "plt.savefig('grafico 3_3.png')"
      ],
      "execution_count": 0,
      "outputs": []
    },
    {
      "cell_type": "code",
      "metadata": {
        "id": "RPKQ1yulk4tW",
        "colab_type": "code",
        "colab": {}
      },
      "source": [
        "plt.subplot(2,1,1)\n",
        "plt.plot( p3bsf_1['Tempo (s)']*1000, p3bsf_1['V1 (V)'], color='blue')\n",
        "plt.xlabel('Tempo (us)')\n",
        "plt.ylabel('V1 (V)',color='blue')\n",
        "plt.twinx()\n",
        "plt.plot(p3bsf_1['Tempo (s)']*1000, p3bsf_1['V2 (V)']*1000, color='red')\n",
        "plt.xlabel('Tempo (ms)')\n",
        "plt.ylabel('V2 (mV)',color='red')\n",
        "#plt.tight_layout()\n",
        "plt.title('Circuito integrador com sinal senoidal de 100Hz')\n",
        "\n",
        "\n",
        "plt.subplot(2,1,2)\n",
        "plt.plot( p3asf['Tempo (s)']*1000, p3asf['V1 (V)'], color='blue')\n",
        "plt.xlabel('Tempo (ms)')\n",
        "plt.ylabel('V1 (V)',color='blue')\n",
        "plt.twinx()\n",
        "plt.plot(p3asf['Tempo (s)']*1000, p3asf['V2 (V)'], color='red')\n",
        "plt.xlabel('Tempo (ms)')\n",
        "plt.ylabel('V2 (V)',color='red')\n",
        "#plt.tight_layout()\n",
        "plt.title('Circuito diferenciador com sinal senoidal de 5kHz')\n",
        "plt.tight_layout()\n",
        "plt.savefig('grafico 3_erros.png')"
      ],
      "execution_count": 0,
      "outputs": []
    }
  ]
}